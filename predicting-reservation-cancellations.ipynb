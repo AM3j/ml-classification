{
 "cells": [
  {
   "cell_type": "markdown",
   "id": "9cd6599e-a513-45d6-be46-dfacd64043d4",
   "metadata": {},
   "source": [
    "# Import Required Libraries"
   ]
  },
  {
   "cell_type": "code",
   "execution_count": 1,
   "id": "78031d66-8ebe-4dcd-a93d-b74165e965a1",
   "metadata": {},
   "outputs": [
    {
     "data": {
      "text/html": [
       "\n",
       "            <div>\n",
       "                <ins><a href=\"https://ydata.ai/register\">Upgrade to ydata-sdk</a></ins>\n",
       "                <p>\n",
       "                    Improve your data and profiling with ydata-sdk, featuring data quality scoring, redundancy detection, outlier identification, text validation, and synthetic data generation.\n",
       "                </p>\n",
       "            </div>\n",
       "            "
      ],
      "text/plain": [
       "<IPython.core.display.HTML object>"
      ]
     },
     "metadata": {},
     "output_type": "display_data"
    }
   ],
   "source": [
    "import pandas as pd\n",
    "import numpy as np\n",
    "import matplotlib.pyplot as plt\n",
    "from ydata_profiling import ProfileReport\n",
    "from IPython.display import IFrame, display\n",
    "import eli5\n",
    "from eli5.sklearn import PermutationImportance\n",
    "from sklearn.pipeline import Pipeline\n",
    "from sklearn.model_selection import train_test_split, GridSearchCV\n",
    "from sklearn.compose import ColumnTransformer\n",
    "from sklearn.preprocessing import StandardScaler, OneHotEncoder, PowerTransformer\n",
    "from sklearn.decomposition import PCA\n",
    "from sklearn.linear_model import LogisticRegression\n",
    "from sklearn.tree import DecisionTreeClassifier\n",
    "from sklearn.neighbors import KNeighborsClassifier\n",
    "from sklearn.ensemble import RandomForestClassifier\n",
    "from xgboost import XGBClassifier\n",
    "from sklearn.metrics import accuracy_score, \\\n",
    "                            precision_score, \\\n",
    "                            recall_score, \\\n",
    "                            f1_score, \\\n",
    "                            classification_report\n",
    "%matplotlib inline\n",
    "import warnings\n",
    "warnings.filterwarnings('ignore')"
   ]
  },
  {
   "cell_type": "markdown",
   "id": "5d44aa43-412e-4db4-8c68-90d2a86f6d18",
   "metadata": {},
   "source": [
    "# Business Problem"
   ]
  },
  {
   "cell_type": "markdown",
   "id": "be53aa92-5a31-4f71-8c4e-fe7ebd8394c9",
   "metadata": {},
   "source": [
    "Predict whether a customer is likely to cancel their reservation or not, so the business can proactively manage bookings and reduce revenue loss."
   ]
  },
  {
   "cell_type": "code",
   "execution_count": 2,
   "id": "8e691d4a-226a-4fa7-9c12-0e7852bcb1bf",
   "metadata": {},
   "outputs": [
    {
     "data": {
      "text/plain": [
       "(119390, 32)"
      ]
     },
     "execution_count": 2,
     "metadata": {},
     "output_type": "execute_result"
    }
   ],
   "source": [
    "# Read data\n",
    "# the data from \n",
    "hotel = pd.read_csv(\"hotel.csv\")\n",
    "hotel.shape"
   ]
  },
  {
   "cell_type": "markdown",
   "id": "a14e7fa8-7a32-426f-845a-31b6fc04aace",
   "metadata": {},
   "source": [
    "# Exploratory Data Analysis"
   ]
  },
  {
   "cell_type": "code",
   "execution_count": 3,
   "id": "afcb347a-621c-43be-9033-fa297dc27a81",
   "metadata": {},
   "outputs": [
    {
     "data": {
      "text/html": [
       "<div>\n",
       "<style scoped>\n",
       "    .dataframe tbody tr th:only-of-type {\n",
       "        vertical-align: middle;\n",
       "    }\n",
       "\n",
       "    .dataframe tbody tr th {\n",
       "        vertical-align: top;\n",
       "    }\n",
       "\n",
       "    .dataframe thead th {\n",
       "        text-align: right;\n",
       "    }\n",
       "</style>\n",
       "<table border=\"1\" class=\"dataframe\">\n",
       "  <thead>\n",
       "    <tr style=\"text-align: right;\">\n",
       "      <th></th>\n",
       "      <th>hotel</th>\n",
       "      <th>is_canceled</th>\n",
       "      <th>lead_time</th>\n",
       "      <th>arrival_date_year</th>\n",
       "      <th>arrival_date_month</th>\n",
       "      <th>arrival_date_week_number</th>\n",
       "      <th>arrival_date_day_of_month</th>\n",
       "      <th>stays_in_weekend_nights</th>\n",
       "      <th>stays_in_week_nights</th>\n",
       "      <th>adults</th>\n",
       "      <th>...</th>\n",
       "      <th>deposit_type</th>\n",
       "      <th>agent</th>\n",
       "      <th>company</th>\n",
       "      <th>days_in_waiting_list</th>\n",
       "      <th>customer_type</th>\n",
       "      <th>adr</th>\n",
       "      <th>required_car_parking_spaces</th>\n",
       "      <th>total_of_special_requests</th>\n",
       "      <th>reservation_status</th>\n",
       "      <th>reservation_status_date</th>\n",
       "    </tr>\n",
       "  </thead>\n",
       "  <tbody>\n",
       "    <tr>\n",
       "      <th>0</th>\n",
       "      <td>Resort Hotel</td>\n",
       "      <td>0</td>\n",
       "      <td>342</td>\n",
       "      <td>2015</td>\n",
       "      <td>July</td>\n",
       "      <td>27</td>\n",
       "      <td>1</td>\n",
       "      <td>0</td>\n",
       "      <td>0</td>\n",
       "      <td>2</td>\n",
       "      <td>...</td>\n",
       "      <td>No Deposit</td>\n",
       "      <td>NaN</td>\n",
       "      <td>NaN</td>\n",
       "      <td>0</td>\n",
       "      <td>Transient</td>\n",
       "      <td>0.0</td>\n",
       "      <td>0</td>\n",
       "      <td>0</td>\n",
       "      <td>Check-Out</td>\n",
       "      <td>2015-07-01</td>\n",
       "    </tr>\n",
       "    <tr>\n",
       "      <th>1</th>\n",
       "      <td>Resort Hotel</td>\n",
       "      <td>0</td>\n",
       "      <td>737</td>\n",
       "      <td>2015</td>\n",
       "      <td>July</td>\n",
       "      <td>27</td>\n",
       "      <td>1</td>\n",
       "      <td>0</td>\n",
       "      <td>0</td>\n",
       "      <td>2</td>\n",
       "      <td>...</td>\n",
       "      <td>No Deposit</td>\n",
       "      <td>NaN</td>\n",
       "      <td>NaN</td>\n",
       "      <td>0</td>\n",
       "      <td>Transient</td>\n",
       "      <td>0.0</td>\n",
       "      <td>0</td>\n",
       "      <td>0</td>\n",
       "      <td>Check-Out</td>\n",
       "      <td>2015-07-01</td>\n",
       "    </tr>\n",
       "    <tr>\n",
       "      <th>2</th>\n",
       "      <td>Resort Hotel</td>\n",
       "      <td>0</td>\n",
       "      <td>7</td>\n",
       "      <td>2015</td>\n",
       "      <td>July</td>\n",
       "      <td>27</td>\n",
       "      <td>1</td>\n",
       "      <td>0</td>\n",
       "      <td>1</td>\n",
       "      <td>1</td>\n",
       "      <td>...</td>\n",
       "      <td>No Deposit</td>\n",
       "      <td>NaN</td>\n",
       "      <td>NaN</td>\n",
       "      <td>0</td>\n",
       "      <td>Transient</td>\n",
       "      <td>75.0</td>\n",
       "      <td>0</td>\n",
       "      <td>0</td>\n",
       "      <td>Check-Out</td>\n",
       "      <td>2015-07-02</td>\n",
       "    </tr>\n",
       "    <tr>\n",
       "      <th>3</th>\n",
       "      <td>Resort Hotel</td>\n",
       "      <td>0</td>\n",
       "      <td>13</td>\n",
       "      <td>2015</td>\n",
       "      <td>July</td>\n",
       "      <td>27</td>\n",
       "      <td>1</td>\n",
       "      <td>0</td>\n",
       "      <td>1</td>\n",
       "      <td>1</td>\n",
       "      <td>...</td>\n",
       "      <td>No Deposit</td>\n",
       "      <td>304.0</td>\n",
       "      <td>NaN</td>\n",
       "      <td>0</td>\n",
       "      <td>Transient</td>\n",
       "      <td>75.0</td>\n",
       "      <td>0</td>\n",
       "      <td>0</td>\n",
       "      <td>Check-Out</td>\n",
       "      <td>2015-07-02</td>\n",
       "    </tr>\n",
       "    <tr>\n",
       "      <th>4</th>\n",
       "      <td>Resort Hotel</td>\n",
       "      <td>0</td>\n",
       "      <td>14</td>\n",
       "      <td>2015</td>\n",
       "      <td>July</td>\n",
       "      <td>27</td>\n",
       "      <td>1</td>\n",
       "      <td>0</td>\n",
       "      <td>2</td>\n",
       "      <td>2</td>\n",
       "      <td>...</td>\n",
       "      <td>No Deposit</td>\n",
       "      <td>240.0</td>\n",
       "      <td>NaN</td>\n",
       "      <td>0</td>\n",
       "      <td>Transient</td>\n",
       "      <td>98.0</td>\n",
       "      <td>0</td>\n",
       "      <td>1</td>\n",
       "      <td>Check-Out</td>\n",
       "      <td>2015-07-03</td>\n",
       "    </tr>\n",
       "  </tbody>\n",
       "</table>\n",
       "<p>5 rows × 32 columns</p>\n",
       "</div>"
      ],
      "text/plain": [
       "          hotel  is_canceled  lead_time  arrival_date_year arrival_date_month  \\\n",
       "0  Resort Hotel            0        342               2015               July   \n",
       "1  Resort Hotel            0        737               2015               July   \n",
       "2  Resort Hotel            0          7               2015               July   \n",
       "3  Resort Hotel            0         13               2015               July   \n",
       "4  Resort Hotel            0         14               2015               July   \n",
       "\n",
       "   arrival_date_week_number  arrival_date_day_of_month  \\\n",
       "0                        27                          1   \n",
       "1                        27                          1   \n",
       "2                        27                          1   \n",
       "3                        27                          1   \n",
       "4                        27                          1   \n",
       "\n",
       "   stays_in_weekend_nights  stays_in_week_nights  adults  ...  deposit_type  \\\n",
       "0                        0                     0       2  ...    No Deposit   \n",
       "1                        0                     0       2  ...    No Deposit   \n",
       "2                        0                     1       1  ...    No Deposit   \n",
       "3                        0                     1       1  ...    No Deposit   \n",
       "4                        0                     2       2  ...    No Deposit   \n",
       "\n",
       "   agent company days_in_waiting_list customer_type   adr  \\\n",
       "0    NaN     NaN                    0     Transient   0.0   \n",
       "1    NaN     NaN                    0     Transient   0.0   \n",
       "2    NaN     NaN                    0     Transient  75.0   \n",
       "3  304.0     NaN                    0     Transient  75.0   \n",
       "4  240.0     NaN                    0     Transient  98.0   \n",
       "\n",
       "   required_car_parking_spaces  total_of_special_requests  reservation_status  \\\n",
       "0                            0                          0           Check-Out   \n",
       "1                            0                          0           Check-Out   \n",
       "2                            0                          0           Check-Out   \n",
       "3                            0                          0           Check-Out   \n",
       "4                            0                          1           Check-Out   \n",
       "\n",
       "  reservation_status_date  \n",
       "0              2015-07-01  \n",
       "1              2015-07-01  \n",
       "2              2015-07-02  \n",
       "3              2015-07-02  \n",
       "4              2015-07-03  \n",
       "\n",
       "[5 rows x 32 columns]"
      ]
     },
     "execution_count": 3,
     "metadata": {},
     "output_type": "execute_result"
    }
   ],
   "source": [
    "# Look at first 5 rows\n",
    "hotel.head()"
   ]
  },
  {
   "cell_type": "code",
   "execution_count": 4,
   "id": "73d37514-c000-48e2-8363-073755a76dc7",
   "metadata": {},
   "outputs": [
    {
     "name": "stdout",
     "output_type": "stream",
     "text": [
      "<class 'pandas.core.frame.DataFrame'>\n",
      "RangeIndex: 119390 entries, 0 to 119389\n",
      "Data columns (total 32 columns):\n",
      " #   Column                          Non-Null Count   Dtype  \n",
      "---  ------                          --------------   -----  \n",
      " 0   hotel                           119390 non-null  object \n",
      " 1   is_canceled                     119390 non-null  int64  \n",
      " 2   lead_time                       119390 non-null  int64  \n",
      " 3   arrival_date_year               119390 non-null  int64  \n",
      " 4   arrival_date_month              119390 non-null  object \n",
      " 5   arrival_date_week_number        119390 non-null  int64  \n",
      " 6   arrival_date_day_of_month       119390 non-null  int64  \n",
      " 7   stays_in_weekend_nights         119390 non-null  int64  \n",
      " 8   stays_in_week_nights            119390 non-null  int64  \n",
      " 9   adults                          119390 non-null  int64  \n",
      " 10  children                        119386 non-null  float64\n",
      " 11  babies                          119390 non-null  int64  \n",
      " 12  meal                            119390 non-null  object \n",
      " 13  country                         118902 non-null  object \n",
      " 14  market_segment                  119390 non-null  object \n",
      " 15  distribution_channel            119390 non-null  object \n",
      " 16  is_repeated_guest               119390 non-null  int64  \n",
      " 17  previous_cancellations          119390 non-null  int64  \n",
      " 18  previous_bookings_not_canceled  119390 non-null  int64  \n",
      " 19  reserved_room_type              119390 non-null  object \n",
      " 20  assigned_room_type              119390 non-null  object \n",
      " 21  booking_changes                 119390 non-null  int64  \n",
      " 22  deposit_type                    119390 non-null  object \n",
      " 23  agent                           103050 non-null  float64\n",
      " 24  company                         6797 non-null    float64\n",
      " 25  days_in_waiting_list            119390 non-null  int64  \n",
      " 26  customer_type                   119390 non-null  object \n",
      " 27  adr                             119390 non-null  float64\n",
      " 28  required_car_parking_spaces     119390 non-null  int64  \n",
      " 29  total_of_special_requests       119390 non-null  int64  \n",
      " 30  reservation_status              119390 non-null  object \n",
      " 31  reservation_status_date         119390 non-null  object \n",
      "dtypes: float64(4), int64(16), object(12)\n",
      "memory usage: 29.1+ MB\n"
     ]
    }
   ],
   "source": [
    "# Look at the structure of the dataset\n",
    "hotel.info()"
   ]
  },
  {
   "cell_type": "markdown",
   "id": "0d289cf9-4a98-43c6-9032-614d0774cf94",
   "metadata": {},
   "source": [
    "We notice that \"children\" variable should be int type not float, also has 4 missing values."
   ]
  },
  {
   "cell_type": "code",
   "execution_count": 5,
   "id": "5cf79988-4ae9-43c4-adaf-b5707f58d72f",
   "metadata": {},
   "outputs": [
    {
     "data": {
      "text/plain": [
       "np.int64(31994)"
      ]
     },
     "execution_count": 5,
     "metadata": {},
     "output_type": "execute_result"
    }
   ],
   "source": [
    "# Number of duplicated rows\n",
    "hotel.duplicated().sum()"
   ]
  },
  {
   "cell_type": "code",
   "execution_count": 6,
   "id": "63650a0e-2e73-4550-b685-7d6e343da79a",
   "metadata": {},
   "outputs": [
    {
     "data": {
      "application/vnd.jupyter.widget-view+json": {
       "model_id": "a1e2904df842473d9f8815f19d21643d",
       "version_major": 2,
       "version_minor": 0
      },
      "text/plain": [
       "Summarize dataset:   0%|          | 0/5 [00:00<?, ?it/s]"
      ]
     },
     "metadata": {},
     "output_type": "display_data"
    },
    {
     "name": "stderr",
     "output_type": "stream",
     "text": [
      "\n",
      "  0%|                                                                                           | 0/32 [00:00<?, ?it/s]\u001b[A\n",
      "  3%|██▌                                                                                | 1/32 [00:00<00:25,  1.22it/s]\u001b[A\n",
      "  6%|█████▏                                                                             | 2/32 [00:01<00:14,  2.12it/s]\u001b[A\n",
      "  9%|███████▊                                                                           | 3/32 [00:01<00:12,  2.39it/s]\u001b[A\n",
      " 12%|██████████▍                                                                        | 4/32 [00:01<00:08,  3.28it/s]\u001b[A\n",
      " 16%|████████████▉                                                                      | 5/32 [00:01<00:07,  3.76it/s]\u001b[A\n",
      " 41%|█████████████████████████████████▎                                                | 13/32 [00:01<00:01, 15.62it/s]\u001b[A\n",
      " 50%|█████████████████████████████████████████                                         | 16/32 [00:03<00:03,  5.12it/s]\u001b[A\n",
      " 56%|██████████████████████████████████████████████▏                                   | 18/32 [00:03<00:02,  6.10it/s]\u001b[A\n",
      "100%|██████████████████████████████████████████████████████████████████████████████████| 32/32 [00:03<00:00,  8.97it/s]\u001b[A\n"
     ]
    },
    {
     "data": {
      "application/vnd.jupyter.widget-view+json": {
       "model_id": "93ddc637b1864e1981e3de3736a58615",
       "version_major": 2,
       "version_minor": 0
      },
      "text/plain": [
       "Generate report structure:   0%|          | 0/1 [00:00<?, ?it/s]"
      ]
     },
     "metadata": {},
     "output_type": "display_data"
    },
    {
     "data": {
      "application/vnd.jupyter.widget-view+json": {
       "model_id": "5ef145fe6073420785466545f10d1ae5",
       "version_major": 2,
       "version_minor": 0
      },
      "text/plain": [
       "Render HTML:   0%|          | 0/1 [00:00<?, ?it/s]"
      ]
     },
     "metadata": {},
     "output_type": "display_data"
    },
    {
     "data": {
      "application/vnd.jupyter.widget-view+json": {
       "model_id": "62d2c4f9c70647b08e5e1afd6541b80e",
       "version_major": 2,
       "version_minor": 0
      },
      "text/plain": [
       "Export report to file:   0%|          | 0/1 [00:00<?, ?it/s]"
      ]
     },
     "metadata": {},
     "output_type": "display_data"
    }
   ],
   "source": [
    "# For better look at the dataset we will use ydata_profiling\n",
    "# It's automate the process\n",
    "# Generate the report\n",
    "profile = ProfileReport(hotel, title=\"Hotel Data Report\", \n",
    "                        samples={\"head\": 5, \"tail\": 5},\n",
    "                        missing_diagrams={\"bar\": True, \"matrix\": False, \"heatmap\": False})\n",
    "\n",
    "# Save the report to HTML\n",
    "profile.to_file(\"report.html\")"
   ]
  },
  {
   "cell_type": "code",
   "execution_count": 7,
   "id": "f83bc08c-6d1b-4b56-a222-341722041ff7",
   "metadata": {},
   "outputs": [
    {
     "data": {
      "text/html": [
       "\n",
       "        <iframe\n",
       "            width=\"100%\"\n",
       "            height=\"800px\"\n",
       "            src=\"report.html\"\n",
       "            frameborder=\"0\"\n",
       "            allowfullscreen\n",
       "            \n",
       "        ></iframe>\n",
       "        "
      ],
      "text/plain": [
       "<IPython.lib.display.IFrame at 0x1fda8471eb0>"
      ]
     },
     "execution_count": 7,
     "metadata": {},
     "output_type": "execute_result"
    }
   ],
   "source": [
    "# Embed the report using iframe\n",
    "IFrame(src = \"report.html\", width=\"100%\", height=\"800px\")"
   ]
  },
  {
   "cell_type": "markdown",
   "id": "99f7da85-684f-4ec9-b928-2a355cd68223",
   "metadata": {},
   "source": [
    "## EDA Conclusion"
   ]
  },
  {
   "cell_type": "markdown",
   "id": "c53874a7-9174-435a-9a69-c89e3e56a158",
   "metadata": {},
   "source": [
    "After carefully examining the dataset through the report, we can say:\n",
    "- Our target variable is **\"is_canceled\"** and it's slightly imbalanced. We may need to do oversampling.\n",
    "- The **Dataset** has 31994 duplicated rows, which we need to delete.\n",
    "- The **Dataset** has 8171 (6.8%) unique duplicated rows.\n",
    "- Two variables had missing values: the first is **\"company\"** with more than 94% missing, which we will delete because it's not useful; the second is **\"agent\"** with a smaller percentage (13.7%), but since it's highly correlated with \"hotel\" we will delete it as well.\n",
    "- Highly correlated features:\n",
    "1. **\"arrival_date_month\"** and **\"arrival_date_week_number\"**, we will keep **\"arrival_date_week_number\"** since it's already in a suitable format for ML and shows normal distribution.\n",
    "2. **\"assigned_room_type\"** and **\"reserved_room_type\"**, we will keep **\"reserved_room_type\"** because it has fewer categories (10 < 12).\n",
    "3. **\"distribution_channel\"** and **\"market_segment\"**, we will drop **\"market_segment\"** because it has more categories (8 > 5).\n",
    "4. Our target **\"is_canceled\"** and **\"reservation_status\"**, we will drop **\"reservation_status\"** since it contain redundant values for the target variable and may cause data leakage.\n",
    "- For highly skewed features, we may apply transformations to improve their distribution.\n",
    "- We will reduce categories in **\"country\"** and fill missing values with \"other\", or remove it if it's not important based on the model.\n",
    "- We will drop **\"reservation_status_date\"** since it's not useful for the model."
   ]
  },
  {
   "cell_type": "markdown",
   "id": "21825cd1-74ff-450b-a72c-f958e351f55e",
   "metadata": {},
   "source": [
    "# Preprocessing Data"
   ]
  },
  {
   "cell_type": "code",
   "execution_count": 8,
   "id": "8d4e5504-b62c-43ac-b9a1-dc2620543792",
   "metadata": {},
   "outputs": [
    {
     "data": {
      "text/plain": [
       "(87396, 32)"
      ]
     },
     "execution_count": 8,
     "metadata": {},
     "output_type": "execute_result"
    }
   ],
   "source": [
    "# Drop duplicate rows\n",
    "hotel_cleaned = hotel.drop_duplicates()\n",
    "\n",
    "# Check number of rows\n",
    "hotel_cleaned.shape"
   ]
  },
  {
   "cell_type": "code",
   "execution_count": 9,
   "id": "827d4877-6aa9-4c43-b592-0dc58c544def",
   "metadata": {},
   "outputs": [
    {
     "data": {
      "text/plain": [
       "(87396, 25)"
      ]
     },
     "execution_count": 9,
     "metadata": {},
     "output_type": "execute_result"
    }
   ],
   "source": [
    "# Drop unnecessary cols based on what we conclude through EDA\n",
    "cols_to_drop = [\"company\", \"agent\", \"arrival_date_month\", \n",
    "                \"assigned_room_type\", \"market_segment\",\n",
    "                \"reservation_status\", \"reservation_status_date\"]\n",
    "\n",
    "hotel_cleaned_cols = hotel_cleaned.drop(cols_to_drop, axis=1)\n",
    "\n",
    "# shape of data\n",
    "hotel_cleaned_cols.shape"
   ]
  },
  {
   "cell_type": "code",
   "execution_count": 10,
   "id": "4ac5671c-e78b-4b36-9ab9-6f86846b5c34",
   "metadata": {},
   "outputs": [
    {
     "data": {
      "text/plain": [
       "country_grouped\n",
       "PRT      27453\n",
       "other    17876\n",
       "GBR      10433\n",
       "FRA       8837\n",
       "ESP       7252\n",
       "DEU       5387\n",
       "ITA       3066\n",
       "IRL       3016\n",
       "BEL       2081\n",
       "BRA       1995\n",
       "Name: count, dtype: int64"
      ]
     },
     "execution_count": 10,
     "metadata": {},
     "output_type": "execute_result"
    }
   ],
   "source": [
    "# Reduce noise in \"country\" feature by\n",
    "# group rare categories to be just 10 countries\n",
    "top9_countires = hotel_cleaned_cols['country'].value_counts().nlargest(9)\n",
    "hotel_cleaned_cols['country_grouped'] = hotel_cleaned_cols['country'].apply(lambda x: x if x in top9_countires else \"other\")\n",
    "\n",
    "# Drop \"country\"\n",
    "hotel_cleaned_data = hotel_cleaned_cols.drop(\"country\", axis=1)\n",
    "\n",
    "# Countries \n",
    "hotel_cleaned_data['country_grouped'].value_counts()"
   ]
  },
  {
   "cell_type": "code",
   "execution_count": 11,
   "id": "56f13fa5-0a78-4f02-81f2-dcf32a9e4bd4",
   "metadata": {},
   "outputs": [
    {
     "data": {
      "text/plain": [
       "hotel                    2\n",
       "meal                     5\n",
       "distribution_channel     5\n",
       "reserved_room_type      10\n",
       "deposit_type             3\n",
       "customer_type            4\n",
       "country_grouped         10\n",
       "dtype: int64"
      ]
     },
     "execution_count": 11,
     "metadata": {},
     "output_type": "execute_result"
    }
   ],
   "source": [
    "# Number of unique categories\n",
    "hotel_cleaned_data.select_dtypes(\"object\").nunique()"
   ]
  },
  {
   "cell_type": "markdown",
   "id": "d19e897f-cc8d-4ea8-84ed-5473e9934269",
   "metadata": {},
   "source": [
    "Now, if we encode these columns we will get 33 columns plus int and float columns."
   ]
  },
  {
   "cell_type": "code",
   "execution_count": 12,
   "id": "d00cb32b-26c6-419c-98bf-b1708fd2b00d",
   "metadata": {},
   "outputs": [
    {
     "data": {
      "text/plain": [
       "dtype('int64')"
      ]
     },
     "execution_count": 12,
     "metadata": {},
     "output_type": "execute_result"
    }
   ],
   "source": [
    "# Fill NaN values in \"children\" column and change the type to int\n",
    "hotel_cleaned_data['children'] = hotel_cleaned_data['children'].fillna(0)\n",
    "hotel_cleaned_data['children'] = hotel_cleaned_data['children'].astype(int)\n",
    "\n",
    "# Check the change\n",
    "hotel_cleaned_data['children'].dtype"
   ]
  },
  {
   "cell_type": "code",
   "execution_count": 13,
   "id": "622d2b49-c2b0-476a-956a-334d1cfa02b0",
   "metadata": {},
   "outputs": [],
   "source": [
    "# Split features and target\n",
    "target = hotel_cleaned_data['is_canceled']\n",
    "features = hotel_cleaned_data.drop('is_canceled', axis=1)\n",
    "\n",
    "# Split features based on data types\n",
    "numeric_features = features.select_dtypes(['int64', 'float']).columns.tolist()\n",
    "categorical_features = features.select_dtypes(\"object\").columns.tolist()"
   ]
  },
  {
   "cell_type": "markdown",
   "id": "6a174fff-db78-4f36-8c9a-3e6176369180",
   "metadata": {},
   "source": [
    "## Scaling & Encoding"
   ]
  },
  {
   "cell_type": "markdown",
   "id": "cd8859b5-8605-4a1b-b35f-f9a94261ef3e",
   "metadata": {},
   "source": [
    "We will use pipeline to automate the process"
   ]
  },
  {
   "cell_type": "code",
   "execution_count": 14,
   "id": "98fb7476-6597-4e25-b2ad-ae945c38cfbc",
   "metadata": {},
   "outputs": [],
   "source": [
    "# Define processing pipelines \n",
    "# For numerics\n",
    "numeric_transformer = Pipeline([\n",
    "    (\"scaler\", PowerTransformer()),\n",
    "    (\"pca\", PCA())\n",
    "])\n",
    "\n",
    "# For categorical\n",
    "categorical_transformer = Pipeline([\n",
    "    (\"encode\", OneHotEncoder())\n",
    "])"
   ]
  },
  {
   "cell_type": "code",
   "execution_count": 15,
   "id": "3ec9430c-3526-4581-8f68-96c42c2f0c48",
   "metadata": {},
   "outputs": [],
   "source": [
    "# Compine preprocessors\n",
    "preprocessor = ColumnTransformer([\n",
    "    (\"numeric\", numeric_transformer, numeric_features),\n",
    "    (\"categorical\", categorical_transformer, categorical_features)\n",
    "])"
   ]
  },
  {
   "cell_type": "markdown",
   "id": "cfd09f47-3b4f-4a8e-bb63-b2df184d6437",
   "metadata": {},
   "source": [
    "# Training & Tuning Models"
   ]
  },
  {
   "cell_type": "markdown",
   "id": "80f8f380-2aec-4e14-8eb0-0862a348db35",
   "metadata": {},
   "source": [
    "Automate the process using pipeline"
   ]
  },
  {
   "cell_type": "code",
   "execution_count": 16,
   "id": "5b2ffd68-1e52-4e7f-9dc1-b06fff86fed8",
   "metadata": {},
   "outputs": [],
   "source": [
    "# Split the data into train and test set\n",
    "X_train, X_test, y_train, y_test = train_test_split(features,\n",
    "                                                    target,\n",
    "                                                    test_size=0.3,\n",
    "                                                    random_state=10)"
   ]
  },
  {
   "cell_type": "code",
   "execution_count": 17,
   "id": "43ca7fdd-4078-4f60-8ac2-811684fdfcb8",
   "metadata": {},
   "outputs": [],
   "source": [
    "# Define multiple models and param grids\n",
    "models = {\n",
    "    \"logreg\": {\n",
    "        \"model\": LogisticRegression(random_state=10),\n",
    "        \"params\": {\n",
    "            \"preprocessor__numeric__pca__n_components\": [None, 2, 5],\n",
    "            \"classifier__max_iter\": [150, 300, 500],\n",
    "            \"classifier__C\": [0.1, 1, 10]\n",
    "        }\n",
    "    },\n",
    "    \"knn\": { \n",
    "        \"model\": KNeighborsClassifier(),\n",
    "        \"params\": {\n",
    "            \"preprocessor__numeric__pca__n_components\": [None, 2, 5],\n",
    "            \"classifier__n_neighbors\": [3, 5, 7]\n",
    "        }\n",
    "    },\n",
    "    \"decision_tree\": {\n",
    "        \"model\": DecisionTreeClassifier(random_state=10),\n",
    "        \"params\": {\n",
    "            \"preprocessor__numeric__pca__n_components\": [None, 2, 5],\n",
    "            \"classifier__max_depth\": [None, 5, 10]\n",
    "        }\n",
    "    },\n",
    "    \"rf\": {\n",
    "        \"model\": RandomForestClassifier(random_state=10),\n",
    "        \"params\": {\n",
    "            \"preprocessor__numeric__pca__n_components\": [None, 2, 5],\n",
    "            \"classifier__n_estimators\": [51, 101],\n",
    "            \"classifier__max_depth\": [None, 10, 20]\n",
    "        }\n",
    "    },\n",
    "    \"xgboost\": {\n",
    "        \"model\": XGBClassifier(random_state=10),\n",
    "        \"params\":{\n",
    "            \"preprocessor__numeric__pca__n_components\": [None, 2, 5],\n",
    "            \"classifier__n_estimators\": [50, 100],\n",
    "            \"classifier__max_depth\": [None, 10, 20]\n",
    "        }\n",
    "    }\n",
    "}"
   ]
  },
  {
   "cell_type": "code",
   "execution_count": 18,
   "id": "e61d655b-5942-4b79-b1a5-71dd1f3bb695",
   "metadata": {},
   "outputs": [
    {
     "name": "stdout",
     "output_type": "stream",
     "text": [
      "Training & Tuning: logreg\n",
      "Best parameters for logreg: {'classifier__C': 1, 'classifier__max_iter': 150, 'preprocessor__numeric__pca__n_components': None}\n",
      "Classification Report for logreg\n",
      "              precision    recall  f1-score   support\n",
      "\n",
      "           0       0.82      0.92      0.86     19078\n",
      "           1       0.67      0.45      0.54      7141\n",
      "\n",
      "    accuracy                           0.79     26219\n",
      "   macro avg       0.75      0.69      0.70     26219\n",
      "weighted avg       0.78      0.79      0.78     26219\n",
      "\n",
      "Training & Tuning: knn\n",
      "Best parameters for knn: {'classifier__n_neighbors': 7, 'preprocessor__numeric__pca__n_components': None}\n",
      "Classification Report for knn\n",
      "              precision    recall  f1-score   support\n",
      "\n",
      "           0       0.84      0.89      0.86     19078\n",
      "           1       0.65      0.56      0.60      7141\n",
      "\n",
      "    accuracy                           0.80     26219\n",
      "   macro avg       0.75      0.72      0.73     26219\n",
      "weighted avg       0.79      0.80      0.79     26219\n",
      "\n",
      "Training & Tuning: decision_tree\n",
      "Best parameters for decision_tree: {'classifier__max_depth': 10, 'preprocessor__numeric__pca__n_components': None}\n",
      "Classification Report for decision_tree\n",
      "              precision    recall  f1-score   support\n",
      "\n",
      "           0       0.82      0.90      0.86     19078\n",
      "           1       0.64      0.49      0.55      7141\n",
      "\n",
      "    accuracy                           0.79     26219\n",
      "   macro avg       0.73      0.69      0.71     26219\n",
      "weighted avg       0.77      0.79      0.78     26219\n",
      "\n",
      "Training & Tuning: rf\n",
      "Best parameters for rf: {'classifier__max_depth': None, 'classifier__n_estimators': 101, 'preprocessor__numeric__pca__n_components': None}\n",
      "Classification Report for rf\n",
      "              precision    recall  f1-score   support\n",
      "\n",
      "           0       0.84      0.93      0.88     19078\n",
      "           1       0.73      0.54      0.62      7141\n",
      "\n",
      "    accuracy                           0.82     26219\n",
      "   macro avg       0.79      0.73      0.75     26219\n",
      "weighted avg       0.81      0.82      0.81     26219\n",
      "\n",
      "Training & Tuning: xgboost\n",
      "Best parameters for xgboost: {'classifier__max_depth': 20, 'classifier__n_estimators': 100, 'preprocessor__numeric__pca__n_components': None}\n",
      "Classification Report for xgboost\n",
      "              precision    recall  f1-score   support\n",
      "\n",
      "           0       0.86      0.90      0.88     19078\n",
      "           1       0.70      0.60      0.65      7141\n",
      "\n",
      "    accuracy                           0.82     26219\n",
      "   macro avg       0.78      0.75      0.76     26219\n",
      "weighted avg       0.82      0.82      0.82     26219\n",
      "\n"
     ]
    }
   ],
   "source": [
    "# Build and train models then\n",
    "# evaluate each model to pick the best one\n",
    "\n",
    "# Define variables to save best model \n",
    "best_model_name = None\n",
    "best_model_f1 = 0\n",
    "best_model = None\n",
    "\n",
    "# Loop through each models\n",
    "for name, mp in models.items():\n",
    "    print(f\"Training & Tuning: {name}\")\n",
    "\n",
    "    pipe = Pipeline([\n",
    "    (\"preprocessor\", preprocessor),\n",
    "    (\"classifier\", mp['model']),\n",
    "    ])\n",
    "\n",
    "    # GridSearch to tuning each model\n",
    "    gs = GridSearchCV(pipe, mp['params'], cv=3, n_jobs=-1)\n",
    "    gs.fit(X_train, y_train)\n",
    "\n",
    "    print(f\"Best parameters for {name}: {gs.best_params_}\")\n",
    "    predictions = gs.predict(X_test)\n",
    "\n",
    "    print(f\"Classification Report for {name}\")\n",
    "    print(classification_report(y_test, predictions))\n",
    "    \n",
    "    # f1 score for the model\n",
    "    f1 = f1_score(y_test, predictions)\n",
    "\n",
    "    # condition to pick best model based on f1 score\n",
    "    if f1 > best_model_f1:\n",
    "        best_model_f1 = f1\n",
    "        best_model_name = name\n",
    "        best_model = gs"
   ]
  },
  {
   "cell_type": "code",
   "execution_count": 19,
   "id": "6db4f0d8-3256-4f78-9faa-b60feedbd067",
   "metadata": {},
   "outputs": [
    {
     "name": "stdout",
     "output_type": "stream",
     "text": [
      "Best Model     :  xgboost\n",
      "Best F1 score  :  0.65\n",
      "Best parameters:  {'classifier__max_depth': 20, 'classifier__n_estimators': 100, 'preprocessor__numeric__pca__n_components': None}\n"
     ]
    }
   ],
   "source": [
    "print(\"Best Model     : \", best_model_name)\n",
    "print(\"Best F1 score  : \", round(f1, 2))\n",
    "print(\"Best parameters: \", best_model.best_params_)"
   ]
  },
  {
   "cell_type": "markdown",
   "id": "f3e026f4-aa16-4f61-abee-f7bab50fca96",
   "metadata": {},
   "source": [
    "Based on business problem we depend on F1 score to choose the best model and it seems the model performs better with all features, so there is no need to reduce dimensions."
   ]
  },
  {
   "cell_type": "markdown",
   "id": "70cb6a17-f91f-4bd3-aafc-1be6f11836ce",
   "metadata": {},
   "source": [
    "## Feature Importance Plot for The Best Model"
   ]
  },
  {
   "cell_type": "code",
   "execution_count": 20,
   "id": "f9e9135f-e5d4-4699-a605-8d9093b2383d",
   "metadata": {},
   "outputs": [],
   "source": [
    "def get_feature_names(preprocessor, numeric_features, categorical_features):\n",
    "    \"\"\"To extract features names from the pipeline\"\"\"\n",
    "    output_features = []\n",
    "\n",
    "    for name, transformer, features in preprocessor.transformers_:\n",
    "        if name == 'remainder':\n",
    "            continue  \n",
    "\n",
    "        if name == 'numeric':\n",
    "            output_features += features\n",
    "\n",
    "        elif name == 'categorical':\n",
    "            ohe = transformer.named_steps['encode'] if isinstance(transformer, Pipeline) else transformer\n",
    "            cat_ohe_cols = ohe.get_feature_names_out(features)\n",
    "            output_features += list(cat_ohe_cols)\n",
    "\n",
    "    return output_features"
   ]
  },
  {
   "cell_type": "code",
   "execution_count": 21,
   "id": "d1f017a5-0512-42d8-8b56-95d9631a1d85",
   "metadata": {},
   "outputs": [],
   "source": [
    "# Get the best model\n",
    "clf = best_model.best_estimator_.named_steps[\"classifier\"]\n",
    "\n",
    "# Transformed feature for eli5\n",
    "X_transformed = best_model.best_estimator_.named_steps['preprocessor'].transform(X_test)\n",
    "\n",
    "# Get columns name\n",
    "column_names = get_feature_names(\n",
    "    best_model.best_estimator_.named_steps[\"preprocessor\"],\n",
    "    numeric_features,\n",
    "    categorical_features\n",
    ")"
   ]
  },
  {
   "cell_type": "code",
   "execution_count": 22,
   "id": "591252c3-c4cc-484d-850a-4c592650b5ad",
   "metadata": {},
   "outputs": [
    {
     "data": {
      "text/html": [
       "\n",
       "    <style>\n",
       "    table.eli5-weights tr:hover {\n",
       "        filter: brightness(85%);\n",
       "    }\n",
       "</style>\n",
       "\n",
       "\n",
       "\n",
       "    \n",
       "\n",
       "    \n",
       "\n",
       "    \n",
       "\n",
       "    \n",
       "\n",
       "    \n",
       "\n",
       "    \n",
       "\n",
       "\n",
       "    \n",
       "\n",
       "    \n",
       "\n",
       "    \n",
       "\n",
       "    \n",
       "\n",
       "    \n",
       "\n",
       "    \n",
       "\n",
       "\n",
       "    \n",
       "\n",
       "    \n",
       "\n",
       "    \n",
       "\n",
       "    \n",
       "\n",
       "    \n",
       "        <table class=\"eli5-weights eli5-feature-importances\" style=\"border-collapse: collapse; border: none; margin-top: 0em; table-layout: auto;\">\n",
       "    <thead>\n",
       "    <tr style=\"border: none;\">\n",
       "        <th style=\"padding: 0 1em 0 0.5em; text-align: right; border: none;\">Weight</th>\n",
       "        <th style=\"padding: 0 0.5em 0 0.5em; text-align: left; border: none;\">Feature</th>\n",
       "    </tr>\n",
       "    </thead>\n",
       "    <tbody>\n",
       "    \n",
       "        <tr style=\"background-color: hsl(120, 100.00%, 80.00%); border: none;\">\n",
       "            <td style=\"padding: 0 1em 0 0.5em; text-align: right; border: none;\">\n",
       "                0.0479\n",
       "                \n",
       "                    &plusmn; 0.0044\n",
       "                \n",
       "            </td>\n",
       "            <td style=\"padding: 0 0.5em 0 0.5em; text-align: left; border: none;\">\n",
       "                country_grouped_PRT\n",
       "            </td>\n",
       "        </tr>\n",
       "    \n",
       "        <tr style=\"background-color: hsl(120, 100.00%, 83.34%); border: none;\">\n",
       "            <td style=\"padding: 0 1em 0 0.5em; text-align: right; border: none;\">\n",
       "                0.0369\n",
       "                \n",
       "                    &plusmn; 0.0033\n",
       "                \n",
       "            </td>\n",
       "            <td style=\"padding: 0 0.5em 0 0.5em; text-align: left; border: none;\">\n",
       "                lead_time\n",
       "            </td>\n",
       "        </tr>\n",
       "    \n",
       "        <tr style=\"background-color: hsl(120, 100.00%, 89.03%); border: none;\">\n",
       "            <td style=\"padding: 0 1em 0 0.5em; text-align: right; border: none;\">\n",
       "                0.0203\n",
       "                \n",
       "                    &plusmn; 0.0012\n",
       "                \n",
       "            </td>\n",
       "            <td style=\"padding: 0 0.5em 0 0.5em; text-align: left; border: none;\">\n",
       "                is_repeated_guest\n",
       "            </td>\n",
       "        </tr>\n",
       "    \n",
       "        <tr style=\"background-color: hsl(120, 100.00%, 90.28%); border: none;\">\n",
       "            <td style=\"padding: 0 1em 0 0.5em; text-align: right; border: none;\">\n",
       "                0.0171\n",
       "                \n",
       "                    &plusmn; 0.0012\n",
       "                \n",
       "            </td>\n",
       "            <td style=\"padding: 0 0.5em 0 0.5em; text-align: left; border: none;\">\n",
       "                babies\n",
       "            </td>\n",
       "        </tr>\n",
       "    \n",
       "        <tr style=\"background-color: hsl(120, 100.00%, 91.23%); border: none;\">\n",
       "            <td style=\"padding: 0 1em 0 0.5em; text-align: right; border: none;\">\n",
       "                0.0148\n",
       "                \n",
       "                    &plusmn; 0.0019\n",
       "                \n",
       "            </td>\n",
       "            <td style=\"padding: 0 0.5em 0 0.5em; text-align: left; border: none;\">\n",
       "                arrival_date_year\n",
       "            </td>\n",
       "        </tr>\n",
       "    \n",
       "        <tr style=\"background-color: hsl(120, 100.00%, 91.27%); border: none;\">\n",
       "            <td style=\"padding: 0 1em 0 0.5em; text-align: right; border: none;\">\n",
       "                0.0146\n",
       "                \n",
       "                    &plusmn; 0.0017\n",
       "                \n",
       "            </td>\n",
       "            <td style=\"padding: 0 0.5em 0 0.5em; text-align: left; border: none;\">\n",
       "                customer_type_Transient\n",
       "            </td>\n",
       "        </tr>\n",
       "    \n",
       "        <tr style=\"background-color: hsl(120, 100.00%, 92.20%); border: none;\">\n",
       "            <td style=\"padding: 0 1em 0 0.5em; text-align: right; border: none;\">\n",
       "                0.0125\n",
       "                \n",
       "                    &plusmn; 0.0008\n",
       "                \n",
       "            </td>\n",
       "            <td style=\"padding: 0 0.5em 0 0.5em; text-align: left; border: none;\">\n",
       "                total_of_special_requests\n",
       "            </td>\n",
       "        </tr>\n",
       "    \n",
       "        <tr style=\"background-color: hsl(120, 100.00%, 92.52%); border: none;\">\n",
       "            <td style=\"padding: 0 1em 0 0.5em; text-align: right; border: none;\">\n",
       "                0.0118\n",
       "                \n",
       "                    &plusmn; 0.0013\n",
       "                \n",
       "            </td>\n",
       "            <td style=\"padding: 0 0.5em 0 0.5em; text-align: left; border: none;\">\n",
       "                arrival_date_day_of_month\n",
       "            </td>\n",
       "        </tr>\n",
       "    \n",
       "        <tr style=\"background-color: hsl(120, 100.00%, 92.64%); border: none;\">\n",
       "            <td style=\"padding: 0 1em 0 0.5em; text-align: right; border: none;\">\n",
       "                0.0115\n",
       "                \n",
       "                    &plusmn; 0.0011\n",
       "                \n",
       "            </td>\n",
       "            <td style=\"padding: 0 0.5em 0 0.5em; text-align: left; border: none;\">\n",
       "                days_in_waiting_list\n",
       "            </td>\n",
       "        </tr>\n",
       "    \n",
       "        <tr style=\"background-color: hsl(120, 100.00%, 93.26%); border: none;\">\n",
       "            <td style=\"padding: 0 1em 0 0.5em; text-align: right; border: none;\">\n",
       "                0.0101\n",
       "                \n",
       "                    &plusmn; 0.0014\n",
       "                \n",
       "            </td>\n",
       "            <td style=\"padding: 0 0.5em 0 0.5em; text-align: left; border: none;\">\n",
       "                distribution_channel_TA/TO\n",
       "            </td>\n",
       "        </tr>\n",
       "    \n",
       "        <tr style=\"background-color: hsl(120, 100.00%, 93.88%); border: none;\">\n",
       "            <td style=\"padding: 0 1em 0 0.5em; text-align: right; border: none;\">\n",
       "                0.0088\n",
       "                \n",
       "                    &plusmn; 0.0015\n",
       "                \n",
       "            </td>\n",
       "            <td style=\"padding: 0 0.5em 0 0.5em; text-align: left; border: none;\">\n",
       "                stays_in_week_nights\n",
       "            </td>\n",
       "        </tr>\n",
       "    \n",
       "        <tr style=\"background-color: hsl(120, 100.00%, 94.02%); border: none;\">\n",
       "            <td style=\"padding: 0 1em 0 0.5em; text-align: right; border: none;\">\n",
       "                0.0085\n",
       "                \n",
       "                    &plusmn; 0.0013\n",
       "                \n",
       "            </td>\n",
       "            <td style=\"padding: 0 0.5em 0 0.5em; text-align: left; border: none;\">\n",
       "                hotel_City Hotel\n",
       "            </td>\n",
       "        </tr>\n",
       "    \n",
       "        <tr style=\"background-color: hsl(120, 100.00%, 94.85%); border: none;\">\n",
       "            <td style=\"padding: 0 1em 0 0.5em; text-align: right; border: none;\">\n",
       "                0.0069\n",
       "                \n",
       "                    &plusmn; 0.0008\n",
       "                \n",
       "            </td>\n",
       "            <td style=\"padding: 0 0.5em 0 0.5em; text-align: left; border: none;\">\n",
       "                meal_SC\n",
       "            </td>\n",
       "        </tr>\n",
       "    \n",
       "        <tr style=\"background-color: hsl(120, 100.00%, 95.05%); border: none;\">\n",
       "            <td style=\"padding: 0 1em 0 0.5em; text-align: right; border: none;\">\n",
       "                0.0065\n",
       "                \n",
       "                    &plusmn; 0.0018\n",
       "                \n",
       "            </td>\n",
       "            <td style=\"padding: 0 0.5em 0 0.5em; text-align: left; border: none;\">\n",
       "                required_car_parking_spaces\n",
       "            </td>\n",
       "        </tr>\n",
       "    \n",
       "        <tr style=\"background-color: hsl(120, 100.00%, 95.93%); border: none;\">\n",
       "            <td style=\"padding: 0 1em 0 0.5em; text-align: right; border: none;\">\n",
       "                0.0049\n",
       "                \n",
       "                    &plusmn; 0.0008\n",
       "                \n",
       "            </td>\n",
       "            <td style=\"padding: 0 0.5em 0 0.5em; text-align: left; border: none;\">\n",
       "                previous_bookings_not_canceled\n",
       "            </td>\n",
       "        </tr>\n",
       "    \n",
       "        <tr style=\"background-color: hsl(120, 100.00%, 96.04%); border: none;\">\n",
       "            <td style=\"padding: 0 1em 0 0.5em; text-align: right; border: none;\">\n",
       "                0.0047\n",
       "                \n",
       "                    &plusmn; 0.0017\n",
       "                \n",
       "            </td>\n",
       "            <td style=\"padding: 0 0.5em 0 0.5em; text-align: left; border: none;\">\n",
       "                adr\n",
       "            </td>\n",
       "        </tr>\n",
       "    \n",
       "        <tr style=\"background-color: hsl(120, 100.00%, 96.30%); border: none;\">\n",
       "            <td style=\"padding: 0 1em 0 0.5em; text-align: right; border: none;\">\n",
       "                0.0043\n",
       "                \n",
       "                    &plusmn; 0.0020\n",
       "                \n",
       "            </td>\n",
       "            <td style=\"padding: 0 0.5em 0 0.5em; text-align: left; border: none;\">\n",
       "                stays_in_weekend_nights\n",
       "            </td>\n",
       "        </tr>\n",
       "    \n",
       "        <tr style=\"background-color: hsl(120, 100.00%, 96.85%); border: none;\">\n",
       "            <td style=\"padding: 0 1em 0 0.5em; text-align: right; border: none;\">\n",
       "                0.0034\n",
       "                \n",
       "                    &plusmn; 0.0017\n",
       "                \n",
       "            </td>\n",
       "            <td style=\"padding: 0 0.5em 0 0.5em; text-align: left; border: none;\">\n",
       "                booking_changes\n",
       "            </td>\n",
       "        </tr>\n",
       "    \n",
       "        <tr style=\"background-color: hsl(120, 100.00%, 96.87%); border: none;\">\n",
       "            <td style=\"padding: 0 1em 0 0.5em; text-align: right; border: none;\">\n",
       "                0.0034\n",
       "                \n",
       "                    &plusmn; 0.0011\n",
       "                \n",
       "            </td>\n",
       "            <td style=\"padding: 0 0.5em 0 0.5em; text-align: left; border: none;\">\n",
       "                adults\n",
       "            </td>\n",
       "        </tr>\n",
       "    \n",
       "        <tr style=\"background-color: hsl(120, 100.00%, 97.98%); border: none;\">\n",
       "            <td style=\"padding: 0 1em 0 0.5em; text-align: right; border: none;\">\n",
       "                0.0018\n",
       "                \n",
       "                    &plusmn; 0.0004\n",
       "                \n",
       "            </td>\n",
       "            <td style=\"padding: 0 0.5em 0 0.5em; text-align: left; border: none;\">\n",
       "                deposit_type_Non Refund\n",
       "            </td>\n",
       "        </tr>\n",
       "    \n",
       "    \n",
       "        \n",
       "            <tr style=\"background-color: hsl(120, 100.00%, 97.98%); border: none;\">\n",
       "                <td colspan=\"2\" style=\"padding: 0 0.5em 0 0.5em; text-align: center; border: none; white-space: nowrap;\">\n",
       "                    <i>&hellip; 36 more &hellip;</i>\n",
       "                </td>\n",
       "            </tr>\n",
       "        \n",
       "    \n",
       "    </tbody>\n",
       "</table>\n",
       "    \n",
       "\n",
       "    \n",
       "\n",
       "\n",
       "    \n",
       "\n",
       "    \n",
       "\n",
       "    \n",
       "\n",
       "    \n",
       "\n",
       "    \n",
       "\n",
       "    \n",
       "\n",
       "\n",
       "\n"
      ],
      "text/plain": [
       "<IPython.core.display.HTML object>"
      ]
     },
     "execution_count": 22,
     "metadata": {},
     "output_type": "execute_result"
    }
   ],
   "source": [
    "# Create, fitting, and generate the plot\n",
    "perm = PermutationImportance(clf, random_state=10)\n",
    "perm.fit(X_transformed, y_test)\n",
    "eli5.show_weights(perm, feature_names = column_names)"
   ]
  },
  {
   "cell_type": "markdown",
   "id": "96d00c6f-09d0-410b-b4eb-42ca2079bc91",
   "metadata": {},
   "source": [
    "# Summary"
   ]
  },
  {
   "cell_type": "markdown",
   "id": "2261f00b-4982-4326-a2b4-d3533be007bf",
   "metadata": {},
   "source": [
    "- **Formulate Business Problem:** Will the customer likely cancel their reservation?\n",
    "- **EDA Process:** Examine the dataset to understand it correctly.\n",
    "- **Preprocessing Data:** Transform the data to make it suitable for ML models.\n",
    "- **Training & Tuning:** Build a pipeline to automate the entire process and identify the best model based on the F1 score."
   ]
  }
 ],
 "metadata": {
  "kernelspec": {
   "display_name": "Python 3 (ipykernel)",
   "language": "python",
   "name": "python3"
  },
  "language_info": {
   "codemirror_mode": {
    "name": "ipython",
    "version": 3
   },
   "file_extension": ".py",
   "mimetype": "text/x-python",
   "name": "python",
   "nbconvert_exporter": "python",
   "pygments_lexer": "ipython3",
   "version": "3.12.4"
  }
 },
 "nbformat": 4,
 "nbformat_minor": 5
}
